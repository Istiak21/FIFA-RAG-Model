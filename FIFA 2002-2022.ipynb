{
 "cells": [
  {
   "cell_type": "markdown",
   "id": "ac26889f-d079-4dad-8a1a-a67bd3ffda04",
   "metadata": {},
   "source": [
    "# FIFA World Cup context based RAG model"
   ]
  },
  {
   "cell_type": "code",
   "execution_count": 8,
   "id": "f92718c4-4fb6-4fa4-b800-f165fb5bf2a3",
   "metadata": {},
   "outputs": [
    {
     "name": "stdout",
     "output_type": "stream",
     "text": [
      "Initializing system...\n",
      "Loading World Cup data from Wikipedia...\n"
     ]
    },
    {
     "name": "stderr",
     "output_type": "stream",
     "text": [
      "100%|██████████| 6/6 [00:18<00:00,  3.12s/it]\n"
     ]
    },
    {
     "name": "stdout",
     "output_type": "stream",
     "text": [
      "\n",
      "Creating vector database from 458 documents...\n",
      "\n",
      "FIFA World Cup (2002-2022) Question Answering System\n",
      "You can ask about any World Cup between 2002-2022\n",
      "Add 'in [year]' to filter questions (e.g., 'winner in 2010')\n",
      "Type 'exit' to quit\n",
      "\n"
     ]
    },
    {
     "name": "stdin",
     "output_type": "stream",
     "text": [
      "\n",
      "Your question about World Cups:  who played the finals in 2010?\n"
     ]
    },
    {
     "name": "stdout",
     "output_type": "stream",
     "text": [
      "\n",
      "Searching across World Cup archives...\n",
      "\n",
      "According to the provided context, the 2022 FIFA World Cup semi-finals were played on 13 and 14 December, with Argentina defeating Croatia 3-0 and France defeating Morocco 2-0. The final match was played on 18 December, with France defeating Argentina 4-2. Therefore, the answer is France and Argentina.\n",
      "\n",
      "Sources:\n",
      "https://en.wikipedia.org/wiki/2018_FIFA_World_Cup\n",
      "https://en.wikipedia.org/wiki/2006_FIFA_World_Cup\n",
      "https://en.wikipedia.org/wiki/2022_FIFA_World_Cup\n"
     ]
    },
    {
     "name": "stdin",
     "output_type": "stream",
     "text": [
      "\n",
      "Your question about World Cups:  who was the top scorer in 2006?\n"
     ]
    },
    {
     "name": "stdout",
     "output_type": "stream",
     "text": [
      "\n",
      "Searching across World Cup archives...\n",
      "\n",
      "Based on the provided context, the top scorer in the 2002 World Cup was Ronaldo, who scored 8 goals.\n",
      "\n",
      "Sources:\n",
      "https://en.wikipedia.org/wiki/2018_FIFA_World_Cup\n",
      "https://en.wikipedia.org/wiki/2006_FIFA_World_Cup\n",
      "https://en.wikipedia.org/wiki/2002_FIFA_World_Cup\n",
      "https://en.wikipedia.org/wiki/2022_FIFA_World_Cup\n"
     ]
    },
    {
     "name": "stdin",
     "output_type": "stream",
     "text": [
      "\n",
      "Your question about World Cups:  exit\n"
     ]
    },
    {
     "name": "stdout",
     "output_type": "stream",
     "text": [
      "Goodbye!\n"
     ]
    }
   ],
   "source": [
    "import os\n",
    "from dotenv import load_dotenv\n",
    "import requests\n",
    "from bs4 import BeautifulSoup\n",
    "from langchain.vectorstores import FAISS\n",
    "from langchain.embeddings import HuggingFaceEmbeddings\n",
    "from langchain.text_splitter import RecursiveCharacterTextSplitter\n",
    "from langchain.docstore.document import Document\n",
    "from together import Together\n",
    "from tqdm import tqdm  # For progress bars\n",
    "\n",
    "# Load environment variable\n",
    "load_dotenv()\n",
    "api_key = os.getenv(\"TOGETHER_API_KEY\")\n",
    "\n",
    "# List of World Cup Wikipedia pages to scrape\n",
    "WORLD_CUP_URLS = {\n",
    "    \"2002\": \"https://en.wikipedia.org/wiki/2002_FIFA_World_Cup\",\n",
    "    \"2006\": \"https://en.wikipedia.org/wiki/2006_FIFA_World_Cup\",\n",
    "    \"2010\": \"https://en.wikipedia.org/wiki/2010_FIFA_World_Cup\",\n",
    "    \"2014\": \"https://en.wikipedia.org/wiki/2014_FIFA_World_Cup\",\n",
    "    \"2018\": \"https://en.wikipedia.org/wiki/2018_FIFA_World_Cup\",\n",
    "    \"2022\": \"https://en.wikipedia.org/wiki/2022_FIFA_World_Cup\"\n",
    "}\n",
    "\n",
    "def scrape_wikipedia(url):\n",
    "    \"\"\"Enhanced Wikipedia scraper that gets main content and info tables\"\"\"\n",
    "    response = requests.get(url)\n",
    "    soup = BeautifulSoup(response.text, \"html.parser\")\n",
    "    \n",
    "    # Get all paragraph text\n",
    "    paragraphs = soup.find_all(\"p\")\n",
    "    text = \"\\n\".join([para.get_text() for para in paragraphs])\n",
    "    \n",
    "    # Add information from tables (like results, squads, etc.)\n",
    "    tables = soup.find_all(\"table\", {\"class\": \"wikitable\"})\n",
    "    for table in tables:\n",
    "        rows = table.find_all(\"tr\")\n",
    "        table_data = []\n",
    "        for row in rows:\n",
    "            cells = row.find_all([\"th\", \"td\"])\n",
    "            table_data.append(\" | \".join(cell.get_text(strip=True) for cell in cells))\n",
    "        text += \"\\n\\nTABLE:\\n\" + \"\\n\".join(table_data)\n",
    "    \n",
    "    return text\n",
    "\n",
    "def load_and_process_documents():\n",
    "    \"\"\"Load all World Cup data and process into documents\"\"\"\n",
    "    documents = []\n",
    "    text_splitter = RecursiveCharacterTextSplitter(\n",
    "        chunk_size=1000,\n",
    "        chunk_overlap=200,\n",
    "        length_function=len\n",
    "    )\n",
    "    \n",
    "    print(\"Loading World Cup data from Wikipedia...\")\n",
    "    for year, url in tqdm(WORLD_CUP_URLS.items()):\n",
    "        try:\n",
    "            text = scrape_wikipedia(url)\n",
    "            # Add year metadata to each chunk\n",
    "            chunks = text_splitter.split_text(text)\n",
    "            for chunk in chunks:\n",
    "                doc = Document(\n",
    "                    page_content=chunk,\n",
    "                    metadata={\"year\": year, \"source\": url}\n",
    "                )\n",
    "                documents.append(doc)\n",
    "        except Exception as e:\n",
    "            print(f\"Error processing {year} World Cup: {e}\")\n",
    "    \n",
    "    return documents\n",
    "\n",
    "# Initialize components\n",
    "print(\"Initializing system...\")\n",
    "embedding_model = HuggingFaceEmbeddings(model_name=\"all-MiniLM-L6-v2\")\n",
    "documents = load_and_process_documents()\n",
    "\n",
    "print(f\"\\nCreating vector database from {len(documents)} documents...\")\n",
    "vectorstore = FAISS.from_documents(documents, embedding_model)\n",
    "retriever = vectorstore.as_retriever(\n",
    "    search_type=\"mmr\",  # Maximal Marginal Relevance for better diversity\n",
    "    search_kwargs={\"k\": 5, \"filter\": None}\n",
    ")\n",
    "\n",
    "client = Together(api_key=api_key)\n",
    "\n",
    "def format_prompt(query, relevant_docs):\n",
    "    \"\"\"Improved prompt formatting with source information\"\"\"\n",
    "    context_parts = []\n",
    "    for doc in relevant_docs:\n",
    "        source = doc.metadata.get('source', 'unknown source')\n",
    "        year = doc.metadata.get('year', 'unknown year')\n",
    "        context_parts.append(f\"From {year} World Cup ({source}):\\n{doc.page_content}\")\n",
    "    \n",
    "    context = \"\\n\\n\".join(context_parts)\n",
    "    \n",
    "    prompt = f\"\"\"You are a football expert assistant specializing in FIFA World Cups (2002-2022).\n",
    "Answer the question using ONLY the provided context. If unsure, say you don't know.\n",
    "\n",
    "CONTEXT:\n",
    "{context}\n",
    "\n",
    "QUESTION: {query}\n",
    "\n",
    "ANSWER:\"\"\"\n",
    "    return prompt\n",
    "\n",
    "def get_answer(query, year_filter=None):\n",
    "    \"\"\"Get answer with optional year filtering\"\"\"\n",
    "    search_kwargs = {\"k\": 5}\n",
    "    if year_filter:\n",
    "        search_kwargs[\"filter\"] = {\"year\": year_filter}\n",
    "    \n",
    "    relevant_docs = retriever.invoke(query, search_kwargs=search_kwargs)\n",
    "    prompt = format_prompt(query, relevant_docs)\n",
    "    \n",
    "    try:\n",
    "        response = client.chat.completions.create(\n",
    "            model=\"meta-llama/Llama-3-8b-chat-hf\",\n",
    "            messages=[\n",
    "                {\"role\": \"system\", \"content\": \"You are a precise football historian.\"},\n",
    "                {\"role\": \"user\", \"content\": prompt}\n",
    "            ],\n",
    "            max_tokens=1024,\n",
    "            temperature=0.3  # Lower temperature for more factual answers\n",
    "        )\n",
    "        answer = response.choices[0].message.content\n",
    "        \n",
    "        # Add sources\n",
    "        sources = list({doc.metadata.get('source') for doc in relevant_docs})\n",
    "        return f\"{answer}\\n\\nSources:\\n\" + \"\\n\".join(sources)\n",
    "    except Exception as e:\n",
    "        print(f\"Error: {e}\")\n",
    "        return \"I couldn't process that request. Here are relevant documents:\\n\" + \\\n",
    "               \"\\n\\n\".join([f\"From {doc.metadata.get('year')}:\\n{doc.page_content}\" \n",
    "                          for doc in relevant_docs])\n",
    "\n",
    "# Interactive interface\n",
    "print(\"\\nFIFA World Cup (2002-2022) Question Answering System\")\n",
    "print(\"You can ask about any World Cup between 2002-2022\")\n",
    "print(\"Add 'in [year]' to filter questions (e.g., 'winner in 2010')\")\n",
    "print(\"Type 'exit' to quit\\n\")\n",
    "\n",
    "while True:\n",
    "    query = input(\"\\nYour question about World Cups: \").strip()\n",
    "    \n",
    "    if query.lower() in ['exit', 'quit']:\n",
    "        print(\"Goodbye!\")\n",
    "        break\n",
    "        \n",
    "    if not query:\n",
    "        print(\"Please enter a question.\")\n",
    "        continue\n",
    "    \n",
    "    # Check for year filter in query\n",
    "    year_filter = None\n",
    "    if \" in \" in query.lower():\n",
    "        query_parts = query.split(\" in \")\n",
    "        query = query_parts[0].strip()\n",
    "        year_part = query_parts[1].strip()\n",
    "        if year_part.isdigit() and year_part in WORLD_CUP_URLS:\n",
    "            year_filter = year_part\n",
    "            print(f\"Filtering for {year_filter} World Cup...\")\n",
    "    \n",
    "    print(\"\\nSearching across World Cup archives...\\n\")\n",
    "    answer = get_answer(query, year_filter)\n",
    "    print(answer)"
   ]
  },
  {
   "cell_type": "code",
   "execution_count": null,
   "id": "682e6e94-392e-4175-b44f-45656c50c393",
   "metadata": {},
   "outputs": [],
   "source": []
  }
 ],
 "metadata": {
  "kernelspec": {
   "display_name": "Python 3 (ipykernel)",
   "language": "python",
   "name": "python3"
  },
  "language_info": {
   "codemirror_mode": {
    "name": "ipython",
    "version": 3
   },
   "file_extension": ".py",
   "mimetype": "text/x-python",
   "name": "python",
   "nbconvert_exporter": "python",
   "pygments_lexer": "ipython3",
   "version": "3.12.2"
  }
 },
 "nbformat": 4,
 "nbformat_minor": 5
}
